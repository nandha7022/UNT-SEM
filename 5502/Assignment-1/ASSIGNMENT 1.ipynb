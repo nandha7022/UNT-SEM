{
 "cells": [
  {
   "cell_type": "code",
   "execution_count": 1,
   "id": "004617d1",
   "metadata": {},
   "outputs": [],
   "source": [
    "## Calculate the betas for a regression of two X variables onto a Y vector using matrix formulation using module \"numpy\" (3 betas - 1 beta for the intercept, and 2 betas for the two X predictor variables)"
   ]
  },
  {
   "cell_type": "code",
   "execution_count": 2,
   "id": "4e8cc0d5",
   "metadata": {},
   "outputs": [
    {
     "name": "stdout",
     "output_type": "stream",
     "text": [
      "[ 1  0  1  4  3  2  5  6  9 13 15 16]\n"
     ]
    }
   ],
   "source": [
    "# Import numpy module\n",
    "import numpy as np\n",
    "\n",
    "# Consider the Y vector to be a variable labeled \"Missed Days at Work\";\n",
    "# there are 12 rows (objects)\n",
    "\n",
    "Y=np.array([1,0,1,4,3,2,5,6,9,13,15,16])\n",
    "print(Y)"
   ]
  },
  {
   "cell_type": "code",
   "execution_count": 3,
   "id": "9b2ad597",
   "metadata": {},
   "outputs": [
    {
     "name": "stdout",
     "output_type": "stream",
     "text": [
      "[[ 1  1  1]\n",
      " [ 1  2  1]\n",
      " [ 1  2  2]\n",
      " [ 1  3  2]\n",
      " [ 1  5  4]\n",
      " [ 1  5  6]\n",
      " [ 1  6  5]\n",
      " [ 1  7  4]\n",
      " [ 1 10  8]\n",
      " [ 1 11  7]\n",
      " [ 1 11  9]\n",
      " [ 1 12 10]]\n"
     ]
    }
   ],
   "source": [
    "# Consider column 2 of X to be a variable labeled \"Attitude Toward Work\" - a 1 to 13 point\n",
    "# rating scale where 1 is extremely favorable and 13 is extremely unfavorable;\n",
    "# and consider column 3 of X to be a variable labeled \"Years in Present Position\";\n",
    "# X has 12 rows and 3 columns;  the first column is all 1's\n",
    "\n",
    "X=np.array([[1,1,1],\n",
    "           [1,2,1],\n",
    "           [1,2,2],\n",
    "           [1,3,2],\n",
    "           [1,5,4],\n",
    "           [1,5,6],\n",
    "           [1,6,5],\n",
    "           [1,7,4],\n",
    "           [1,10,8],\n",
    "           [1,11,7],\n",
    "           [1,11,9],\n",
    "           [1,12,10]])\n",
    "print(X)"
   ]
  },
  {
   "cell_type": "code",
   "execution_count": 4,
   "id": "81b9f78b",
   "metadata": {},
   "outputs": [
    {
     "data": {
      "text/plain": [
       "(12,)"
      ]
     },
     "execution_count": 4,
     "metadata": {},
     "output_type": "execute_result"
    }
   ],
   "source": [
    "# Dimensions of Y: a 12 by 1 vector\n",
    "Y.shape"
   ]
  },
  {
   "cell_type": "code",
   "execution_count": 5,
   "id": "eb539700",
   "metadata": {},
   "outputs": [
    {
     "data": {
      "text/plain": [
       "(12, 3)"
      ]
     },
     "execution_count": 5,
     "metadata": {},
     "output_type": "execute_result"
    }
   ],
   "source": [
    "# Dimensions of X: a 12 by 3 matrix\n",
    "X.shape"
   ]
  },
  {
   "cell_type": "code",
   "execution_count": 6,
   "id": "c18e7bdb",
   "metadata": {},
   "outputs": [
    {
     "name": "stdout",
     "output_type": "stream",
     "text": [
      "[[ 1  1  1  1  1  1  1  1  1  1  1  1]\n",
      " [ 1  2  2  3  5  5  6  7 10 11 11 12]\n",
      " [ 1  1  2  2  4  6  5  4  8  7  9 10]]\n"
     ]
    },
    {
     "data": {
      "text/plain": [
       "(3, 12)"
      ]
     },
     "execution_count": 6,
     "metadata": {},
     "output_type": "execute_result"
    }
   ],
   "source": [
    "# Transpose of X\n",
    "# Here I am taking Transpose as X-Transpose\n",
    "Transpose=X.T\n",
    "print(Transpose)\n",
    "Transpose.shape"
   ]
  },
  {
   "cell_type": "code",
   "execution_count": 7,
   "id": "b76e878a",
   "metadata": {},
   "outputs": [
    {
     "name": "stdout",
     "output_type": "stream",
     "text": [
      "[[ 12  75  59]\n",
      " [ 75 639 497]\n",
      " [ 59 497 397]]\n"
     ]
    },
    {
     "data": {
      "text/plain": [
       "(3, 3)"
      ]
     },
     "execution_count": 7,
     "metadata": {},
     "output_type": "execute_result"
    }
   ],
   "source": [
    "# Multiplication of X-Transpose and X\n",
    "# Here I am taking Transpose_M as multiplication of X-Transpose\n",
    "Transpose_M=Transpose@X\n",
    "print(Transpose_M)\n",
    "Transpose_M.shape"
   ]
  },
  {
   "cell_type": "code",
   "execution_count": 8,
   "id": "69f3b0b9",
   "metadata": {},
   "outputs": [
    {
     "name": "stdout",
     "output_type": "stream",
     "text": [
      "[[ 0.3169944  -0.0214686  -0.02023368]\n",
      " [-0.0214686   0.06093854 -0.07309775]\n",
      " [-0.02023368 -0.07309775  0.09703619]]\n"
     ]
    }
   ],
   "source": [
    "# In this step we are doing Matrix Inverse\n",
    "Matrix_I=np.linalg.inv(Transpose_M)\n",
    "print(Matrix_I)"
   ]
  },
  {
   "cell_type": "code",
   "execution_count": 9,
   "id": "f9597671",
   "metadata": {},
   "outputs": [
    {
     "name": "stdout",
     "output_type": "stream",
     "text": [
      "[-2.2630379   1.54972927 -0.2385295 ]\n"
     ]
    },
    {
     "data": {
      "text/plain": [
       "(3,)"
      ]
     },
     "execution_count": 9,
     "metadata": {},
     "output_type": "execute_result"
    }
   ],
   "source": [
    "#calculating betas\n",
    "#for finding betas we have to multiple Matrix Inverse and X Transpose and Y\n",
    "Betas=Matrix_I@Transpose@Y\n",
    "print(Betas)\n",
    "Betas.shape"
   ]
  },
  {
   "cell_type": "code",
   "execution_count": 10,
   "id": "827a1767",
   "metadata": {},
   "outputs": [
    {
     "name": "stdout",
     "output_type": "stream",
     "text": [
      "[-2.2630379   1.54972927 -0.2385295 ]\n"
     ]
    }
   ],
   "source": [
    "#for Calculating Betas\n",
    "#There is another way of finding betas\n",
    "#betas=np.linalg.inv((Transpose)@X)@(Transpose)@Y\n",
    "#print(betas)\n",
    "#betas.shape"
   ]
  },
  {
   "cell_type": "code",
   "execution_count": 11,
   "id": "9937cbde",
   "metadata": {},
   "outputs": [
    {
     "name": "stdout",
     "output_type": "stream",
     "text": [
      "Beta 0 : -2.263037902536326\n",
      "Beta 1 : 1.5497292675976115\n",
      "Beta 2 : -0.2385294955827928\n"
     ]
    }
   ],
   "source": [
    "#Calculating the beta values\n",
    "\n",
    "Beta_0=Betas[0]\n",
    "print(\"Beta 0 :\", Beta_0)\n",
    "\n",
    "Beta_1=Betas[1]\n",
    "print(\"Beta 1 :\", Beta_1)\n",
    "\n",
    "Beta_2=Betas[2]\n",
    "print(\"Beta 2 :\", Beta_2)\n"
   ]
  }
 ],
 "metadata": {
  "kernelspec": {
   "display_name": "Python 3 (ipykernel)",
   "language": "python",
   "name": "python3"
  },
  "language_info": {
   "codemirror_mode": {
    "name": "ipython",
    "version": 3
   },
   "file_extension": ".py",
   "mimetype": "text/x-python",
   "name": "python",
   "nbconvert_exporter": "python",
   "pygments_lexer": "ipython3",
   "version": "3.11.4"
  }
 },
 "nbformat": 4,
 "nbformat_minor": 5
}
