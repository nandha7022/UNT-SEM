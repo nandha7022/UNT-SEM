{
  "nbformat": 4,
  "nbformat_minor": 0,
  "metadata": {
    "colab": {
      "provenance": [],
      "collapsed_sections": []
    },
    "kernelspec": {
      "name": "python3",
      "display_name": "Python 3"
    },
    "language_info": {
      "name": "python"
    }
  },
  "cells": [
    {
      "cell_type": "code",
      "execution_count": 24,
      "metadata": {
        "id": "Cgwe8ot7A3gM"
      },
      "outputs": [],
      "source": [
        "# Importing numpy as np\n",
        "import numpy as np"
      ]
    },
    {
      "cell_type": "code",
      "source": [
        "# Consider the Y vector to be a variable labeled \"Missed Days at Work\";\n",
        "# there are 12 rows (objects)\n",
        "\n",
        "Y=np.array([1,0,1,4,3,2,5,6,9,13,15,16])\n",
        "print(Y)\n",
        "Y.shape"
      ],
      "metadata": {
        "colab": {
          "base_uri": "https://localhost:8080/"
        },
        "id": "p8I_Hc5CBFnZ",
        "outputId": "ec93049e-7cd3-4caf-b8ef-712ca3e4cb9b"
      },
      "execution_count": 25,
      "outputs": [
        {
          "output_type": "stream",
          "name": "stdout",
          "text": [
            "[ 1  0  1  4  3  2  5  6  9 13 15 16]\n"
          ]
        },
        {
          "output_type": "execute_result",
          "data": {
            "text/plain": [
              "(12,)"
            ]
          },
          "metadata": {},
          "execution_count": 25
        }
      ]
    },
    {
      "cell_type": "code",
      "source": [
        "# Consider column 2 of X to be a variable labeled \"Attitude Toward Work\" - a 1 to 13 point\n",
        "# rating scale where 1 is extremely favorable and 13 is extremely unfavorable;\n",
        "# and consider column 3 of X to be a variable labeled \"Years in Present Position\";\n",
        "# X has 12 rows and 3 columns;  the first column is all 1's\n",
        "\n",
        "X=np.array([[1,1,1],\n",
        "           [1,2,1],\n",
        "           [1,2,2],\n",
        "           [1,3,2],\n",
        "           [1,5,4],\n",
        "           [1,5,6],\n",
        "           [1,6,5],\n",
        "           [1,7,4],\n",
        "           [1,10,8],\n",
        "           [1,11,7],\n",
        "           [1,11,9],\n",
        "           [1,12,10]])\n",
        "print(X)\n",
        "X.shape"
      ],
      "metadata": {
        "colab": {
          "base_uri": "https://localhost:8080/"
        },
        "id": "-HTg7TVUDSaF",
        "outputId": "fc0eecc9-04b2-4921-9db4-e6709fb3f377"
      },
      "execution_count": 27,
      "outputs": [
        {
          "output_type": "stream",
          "name": "stdout",
          "text": [
            "[[ 1  1  1]\n",
            " [ 1  2  1]\n",
            " [ 1  2  2]\n",
            " [ 1  3  2]\n",
            " [ 1  5  4]\n",
            " [ 1  5  6]\n",
            " [ 1  6  5]\n",
            " [ 1  7  4]\n",
            " [ 1 10  8]\n",
            " [ 1 11  7]\n",
            " [ 1 11  9]\n",
            " [ 1 12 10]]\n"
          ]
        },
        {
          "output_type": "execute_result",
          "data": {
            "text/plain": [
              "(12, 3)"
            ]
          },
          "metadata": {},
          "execution_count": 27
        }
      ]
    },
    {
      "cell_type": "code",
      "source": [
        "# Transpose of X\n",
        "# Here I am taking XT as X-Transpose\n",
        "XT=X.T\n",
        "print(XT)\n",
        "XT.shape"
      ],
      "metadata": {
        "colab": {
          "base_uri": "https://localhost:8080/"
        },
        "id": "n-7gm1yVOXVQ",
        "outputId": "f03a803f-d900-4080-9aee-527d0eaf74ab"
      },
      "execution_count": 28,
      "outputs": [
        {
          "output_type": "stream",
          "name": "stdout",
          "text": [
            "[[ 1  1  1  1  1  1  1  1  1  1  1  1]\n",
            " [ 1  2  2  3  5  5  6  7 10 11 11 12]\n",
            " [ 1  1  2  2  4  6  5  4  8  7  9 10]]\n"
          ]
        },
        {
          "output_type": "execute_result",
          "data": {
            "text/plain": [
              "(3, 12)"
            ]
          },
          "metadata": {},
          "execution_count": 28
        }
      ]
    },
    {
      "cell_type": "code",
      "source": [
        "# Multiplication of X-Transpose and X\n",
        "# Here I am taking XM as multiplication of X-Transpose\n",
        "XM=XT@X\n",
        "print(XM)\n",
        "XM.shape"
      ],
      "metadata": {
        "colab": {
          "base_uri": "https://localhost:8080/"
        },
        "id": "rTOfhoKsR4w-",
        "outputId": "91d9c5d8-302c-4e52-bc6c-915f1084ad6b"
      },
      "execution_count": 29,
      "outputs": [
        {
          "output_type": "stream",
          "name": "stdout",
          "text": [
            "[[ 12  75  59]\n",
            " [ 75 639 497]\n",
            " [ 59 497 397]]\n"
          ]
        },
        {
          "output_type": "execute_result",
          "data": {
            "text/plain": [
              "(3, 3)"
            ]
          },
          "metadata": {},
          "execution_count": 29
        }
      ]
    },
    {
      "cell_type": "code",
      "source": [
        "# Matrix Inverse\n",
        "MI=np.linalg.inv((XT)@X)\n",
        "print(MI)"
      ],
      "metadata": {
        "colab": {
          "base_uri": "https://localhost:8080/"
        },
        "id": "pveSBo9nA5ql",
        "outputId": "79f58e0d-4b12-4c70-a77c-2c2cac2a3dbe"
      },
      "execution_count": 30,
      "outputs": [
        {
          "output_type": "stream",
          "name": "stdout",
          "text": [
            "[[ 0.3169944  -0.0214686  -0.02023368]\n",
            " [-0.0214686   0.06093854 -0.07309775]\n",
            " [-0.02023368 -0.07309775  0.09703619]]\n"
          ]
        }
      ]
    },
    {
      "cell_type": "code",
      "source": [
        "#calculating betas\n",
        "#for finding betas we have to multiple Matrix Inverse and X Transpose and Y\n",
        "betas=MI@XT@Y\n",
        "print(betas)\n",
        "betas.shape"
      ],
      "metadata": {
        "colab": {
          "base_uri": "https://localhost:8080/"
        },
        "id": "0VMe2USvDtAr",
        "outputId": "814f5828-9d24-4361-d7fe-753c596e04a7"
      },
      "execution_count": 31,
      "outputs": [
        {
          "output_type": "stream",
          "name": "stdout",
          "text": [
            "[-2.2630379   1.54972927 -0.2385295 ]\n"
          ]
        },
        {
          "output_type": "execute_result",
          "data": {
            "text/plain": [
              "(3,)"
            ]
          },
          "metadata": {},
          "execution_count": 31
        }
      ]
    },
    {
      "cell_type": "code",
      "source": [
        "# Calculating Betas\n",
        "# Here is another way of finding betas\n",
        "# betas=np.linalg.inv((XT)@X)@(X.T)@Y\n",
        "# print(betas)\n",
        "# betas.shape"
      ],
      "metadata": {
        "id": "Q33y3cEnSdvz"
      },
      "execution_count": 32,
      "outputs": []
    },
    {
      "cell_type": "code",
      "source": [
        "# Calculating 3 beta values\n",
        "\n",
        "\n",
        "beta_0=betas[0]\n",
        "print(\"Beta 0 :\", beta_0)\n",
        "\n",
        "beta_1=betas[1]\n",
        "print(\"Beta 1 :\", beta_1)\n",
        "\n",
        "beta_2=betas[2]\n",
        "print(\"Beta 2 :\", beta_2)\n",
        "\n"
      ],
      "metadata": {
        "colab": {
          "base_uri": "https://localhost:8080/"
        },
        "id": "zkiOV0YPTqhs",
        "outputId": "39076355-34ad-4060-eece-31570932ae86"
      },
      "execution_count": 39,
      "outputs": [
        {
          "output_type": "stream",
          "name": "stdout",
          "text": [
            "Beta 0 : -2.2630379025362557\n",
            "Beta 1 : 1.5497292675976007\n",
            "Beta 2 : -0.2385294955827837\n"
          ]
        }
      ]
    },
    {
      "cell_type": "markdown",
      "source": [
        "**Regression Equation** : Y^= β0^ +β1^ ∗ X1 + β2^ ∗ X2+ ε\n",
        "\n",
        "Y^ = -2.2630379 + 1.54972927 * X1 + -0.2385295 * X2 + ε\n",
        "\n",
        "\n",
        "\n"
      ],
      "metadata": {
        "id": "8tr6miDJ9o3X"
      }
    }
  ]
}