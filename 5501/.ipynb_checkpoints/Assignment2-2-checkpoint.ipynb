{
 "cells": [
  {
   "cell_type": "code",
   "execution_count": 6,
   "id": "1186a7b8",
   "metadata": {},
   "outputs": [
    {
     "data": {
      "image/png": "[encoded data removed]",
      "text/latex": [
       "$\\displaystyle \\left\\{ x : 0, \\  y : 0\\right\\}$"
      ],
      "text/plain": [
       "{x: 0, y: 0}"
      ]
     },
     "execution_count": 6,
     "metadata": {},
     "output_type": "execute_result"
    }
   ],
   "source": [
    "import sympy\n",
    "init_printing(use_latex=True)\n",
    "var('x')\n",
    "var('y')\n",
    "fx=4*(x**2) + x*y + 4*(y**2)\n",
    "solve([diff(fx,x),diff(fx,y)],(x,y))"
   ]
  }
 ],
 "metadata": {
  "kernelspec": {
   "display_name": "Python 3 (ipykernel)",
   "language": "python",
   "name": "python3"
  },
  "language_info": {
   "codemirror_mode": {
    "name": "ipython",
    "version": 3
   },
   "file_extension": ".py",
   "mimetype": "text/x-python",
   "name": "python",
   "nbconvert_exporter": "python",
   "pygments_lexer": "ipython3",
   "version": "3.11.4"
  }
 },
 "nbformat": 4,
 "nbformat_minor": 5
}
