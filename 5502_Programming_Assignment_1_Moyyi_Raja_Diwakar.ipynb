{
  "nbformat": 4,
  "nbformat_minor": 0,
  "metadata": {
    "colab": {
      "provenance": [],
      "collapsed_sections": []
    },
    "kernelspec": {
      "name": "python3",
      "display_name": "Python 3"
    },
    "language_info": {
      "name": "python"
    }
  },
  "cells": [
    {
      "cell_type": "code",
      "execution_count": 23,
      "metadata": {
        "colab": {
          "base_uri": "https://localhost:8080/"
        },
        "id": "SeErvWBDR0sh",
        "outputId": "877f19eb-cd6e-4d88-f2bd-04d175746bd0"
      },
      "outputs": [
        {
          "output_type": "stream",
          "name": "stdout",
          "text": [
            "Coin Values : [  1   5  10  25  50 100]\n",
            "Coins Optimal Probability : [0.21525969 0.20681924 0.19673255 0.16932927 0.13187377 0.07998548]\n",
            "Mean Of Coins : 22.04214996395127\n",
            "Coins Mean Difference : 11.659349963951271\n",
            "Coins Optimal Probability : [0.2925447  0.25946388 0.22332263 0.14239679 0.06726348 0.01500851]\n",
            "Mean Of Coins : 12.247035580868065\n",
            "Coins Mean Difference : 1.8642355808680655\n",
            "Coins Optimal Probability : [0.32334891 0.27553976 0.22559288 0.123808   0.04554642 0.00616404]\n",
            "Mean Of Coins : 9.945900968847825\n",
            "Coins Mean Difference : 0.43689903115217454\n",
            "Coins Optimal Probability : [0.31149793 0.26972224 0.22529096 0.13128791 0.05337768 0.00882327]\n",
            "Mean Of Coins : 10.746427714459209\n",
            "Coins Mean Difference : 0.3636277144592093\n",
            "Coins Optimal Probability : [0.31451501 0.27124753 0.22543498 0.12941597 0.0513175  0.00806902]\n",
            "Mean Of Coins : 10.533278402220416\n",
            "Coins Mean Difference : 0.15047840222041664\n",
            "Coins Optimal Probability : [0.31749506 0.27272454 0.22553205 0.12754411 0.04932654 0.0073777 ]\n",
            "Mean Of Coins : 10.329138208392067\n",
            "Coins Mean Difference : 0.05366179160793294\n",
            "Coins Optimal Probability : [0.31600958 0.27199197 0.22548926 0.12847991 0.05031346 0.00771582]\n",
            "Mean Of Coins : 10.43011438824224\n",
            "Coins Mean Difference : 0.04731438824224021\n",
            "Coins Optimal Probability : [0.31660486 0.27228641 0.22550774 0.12810555 0.04991664 0.0075788 ]\n",
            "Mean Of Coins : 10.389464889901408\n",
            "Coins Mean Difference : 0.006664889901408344\n"
          ]
        }
      ],
      "source": [
        "#importing numpy\n",
        "import numpy as np\n",
        "\n",
        "#Possible coin values\n",
        "coin_value = np.array([1,5,10,25,50,100])\n",
        "\n",
        "#Given Values\n",
        "coin_obs_mean = 10.3828\n",
        "coin_obs_variance  = 257.9547\n",
        "\n",
        "print(\"Coin Values :\",coin_value)\n",
        "\n",
        "#Function to get lagrangian multiplier, \n",
        "def coin_weights(alpha,coin_obs_mean,currency_values):\n",
        "\n",
        "  exp_alpha_x = np.exp(alpha*currency_values) #Calculating Weights\n",
        "\n",
        "  coin_probability = exp_alpha_x/sum(exp_alpha_x) #Calculating Optimal Probabilities\n",
        "  \n",
        "  coins_est_mean = sum(currency_values*coin_probability) #Calculating The Estimated Mean\n",
        "\n",
        "  mean_difference = abs(coins_est_mean - coin_obs_mean) #Calculating Difference in Estimated Coin Mean And The Observed Coin Mean\n",
        "\n",
        "  print('Coins Optimal Probability :',coin_probability)\n",
        "  print('Mean Of Coins :',coins_est_mean)\n",
        "  print('Coins Mean Difference :', mean_difference)\n",
        "\n",
        "coin_weights(-0.01,coin_obs_mean,coin_value) #Try 1\n",
        "\n",
        "coin_weights(-0.03,coin_obs_mean,coin_value) #Try 2\n",
        "\n",
        "coin_weights(-0.04,coin_obs_mean,coin_value) #Try 3\n",
        "\n",
        "coin_weights(-0.036,coin_obs_mean,coin_value) #Try 4\n",
        "\n",
        "coin_weights(-0.037,coin_obs_mean,coin_value) #Try 5\n",
        "\n",
        "coin_weights(-0.038,coin_obs_mean,coin_value) #Try 6\n",
        "\n",
        "coin_weights(-0.0375,coin_obs_mean,coin_value) #Try 7\n",
        "\n",
        "coin_weights(-0.0377,coin_obs_mean,coin_value) #Try 8"
      ]
    }
  ]
}