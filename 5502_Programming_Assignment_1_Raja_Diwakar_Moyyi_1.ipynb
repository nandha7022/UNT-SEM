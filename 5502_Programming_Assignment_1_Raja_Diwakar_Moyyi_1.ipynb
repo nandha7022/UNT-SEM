{
  "nbformat": 4,
  "nbformat_minor": 0,
  "metadata": {
    "colab": {
      "provenance": [],
      "collapsed_sections": []
    },
    "kernelspec": {
      "name": "python3",
      "display_name": "Python 3"
    },
    "language_info": {
      "name": "python"
    }
  },
  "cells": [
    {
      "cell_type": "code",
      "execution_count": 6,
      "metadata": {
        "colab": {
          "base_uri": "https://localhost:8080/"
        },
        "id": "SeErvWBDR0sh",
        "outputId": "0e961a4c-e96e-49f0-8f2b-464d237fad20"
      },
      "outputs": [
        {
          "output_type": "stream",
          "name": "stdout",
          "text": [
            "Coin Values : [  1   5  10  25  50 100]\n",
            "Coins Optimal Probability : [0.21525969 0.20681924 0.19673255 0.16932927 0.13187377 0.07998548]\n",
            "Mean Of Coins : 22.04214996395127\n",
            "Coins Mean Difference : 11.659349963951271\n"
          ]
        }
      ],
      "source": [
        "#importing numpy\n",
        "import numpy as np\n",
        "\n",
        "#Possible coin values\n",
        "coin_value = np.array([1,5,10,25,50,100])\n",
        "\n",
        "#Given Values\n",
        "coin_obs_mean = 10.3828\n",
        "coin_obs_variance  = 257.9547\n",
        "\n",
        "print(\"Coin Values :\",coin_value)\n",
        "\n",
        "#Function to get lagrangian multiplier, \n",
        "def coin_weights(alpha,coin_obs_mean,currency_values):\n",
        "\n",
        "  exp_alpha_x = np.exp(alpha*currency_values) #Calculating Weights\n",
        "\n",
        "  coin_probability = exp_alpha_x/sum(exp_alpha_x) #Calculating Optimal Probabilities\n",
        "  \n",
        "  coins_est_mean = sum(currency_values*coin_probability) #Calculating The Estimated Mean\n",
        "\n",
        "  mean_difference = abs(coins_est_mean - coin_obs_mean) #Calculating Difference in Estimated Coin Mean And The Observed Coin Mean\n",
        "\n",
        "  print('Coins Optimal Probability :',coin_probability)\n",
        "  print('Mean Of Coins :',coins_est_mean)\n",
        "  print('Coins Mean Difference :', mean_difference)\n",
        "\n",
        "coin_weights(-0.01,coin_obs_mean,coin_value)"
      ]
    }
  ]
}